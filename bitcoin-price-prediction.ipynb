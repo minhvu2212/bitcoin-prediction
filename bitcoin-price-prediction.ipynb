{
 "cells": [
  {
   "cell_type": "markdown",
   "id": "bf807b83",
   "metadata": {},
   "source": [
    "# Dự đoán giá Bitcoin theo giờ\n",
    "Nhập môn Học máy và Khai phá dữ liệu (IT3190)"
   ]
  },
  {
   "cell_type": "markdown",
   "id": "70d7f823",
   "metadata": {},
   "source": [
    "## 1. Import các thư viện cần thiết"
   ]
  },
  {
   "cell_type": "code",
   "execution_count": null,
   "id": "ec1132d8",
   "metadata": {},
   "outputs": [],
   "source": [
    "# Import thư viện\n",
    "import numpy as np\n",
    "import pandas as pd\n",
    "import matplotlib.pyplot as plt\n",
    "import seaborn as sns\n",
    "from sklearn.preprocessing import MinMaxScaler\n",
    "from sklearn.model_selection import train_test_split, GridSearchCV\n",
    "from sklearn.metrics import mean_squared_error, mean_absolute_error, r2_score\n",
    "import datetime as dt\n",
    "import warnings\n",
    "warnings.filterwarnings('ignore')\n",
    "\n",
    "# Các mô hình hồi quy từ slide\n",
    "from sklearn.linear_model import LinearRegression, Ridge  # Lecture 3\n",
    "from sklearn.tree import DecisionTreeRegressor  # Lecture 8\n",
    "from sklearn.ensemble import RandomForestRegressor  # Lecture 8\n",
    "from sklearn.neighbors import KNeighborsRegressor  # Lecture 7\n",
    "from sklearn.svm import SVR  # Lecture 11"
   ]
  },
  {
   "cell_type": "markdown",
   "id": "8aaacea5",
   "metadata": {},
   "source": [
    "## 2. Tải và tiền xử lý dữ liệu"
   ]
  },
  {
   "cell_type": "code",
   "execution_count": null,
   "id": "3231562d",
   "metadata": {},
   "outputs": [],
   "source": [
    "# Tải dữ liệu\n",
    "print(\"Đang tải dữ liệu lịch sử Bitcoin...\")\n",
    "df = pd.read_csv('btcusd_1-min_data.csv')\n",
    "print(f\"Kích thước dữ liệu: {df.shape}\")"
   ]
  },
  {
   "cell_type": "code",
   "execution_count": null,
   "id": "6c81d8f3",
   "metadata": {},
   "outputs": [],
   "source": [
    "# Tiền xử lý dữ liệu\n",
    "df['Timestamp'] = pd.to_datetime(df['Timestamp'], unit='s')\n",
    "df.set_index('Timestamp', inplace=True)\n",
    "print(\"Xem 5 dòng đầu tiên:\")\n",
    "print(df.head())"
   ]
  },
  {
   "cell_type": "code",
   "execution_count": null,
   "id": "8f10f4fd",
   "metadata": {},
   "outputs": [],
   "source": [
    "# Kiểm tra giá trị thiếu\n",
    "print(\"Kiểm tra giá trị thiếu:\")\n",
    "print(df.isnull().sum())\n",
    "df.dropna(inplace=True)\n",
    "print(f\"Kích thước dữ liệu sau khi loại bỏ giá trị thiếu: {df.shape}\")"
   ]
  },
  {
   "cell_type": "markdown",
   "id": "608071a3",
   "metadata": {},
   "source": [
    "## 3. Tổng hợp dữ liệu theo giờ"
   ]
  },
  {
   "cell_type": "code",
   "execution_count": null,
   "id": "8f5b82cc",
   "metadata": {
    "lines_to_next_cell": 1
   },
   "outputs": [],
   "source": [
    "# Lấy mẫu dữ liệu theo giờ thay vì theo phút\n",
    "df_hourly = df.resample('H').agg({\n",
    "    'Open': 'first',\n",
    "    'High': 'max',\n",
    "    'Low': 'min',\n",
    "    'Close': 'last',\n",
    "    'Volume': 'sum'\n",
    "}).dropna()\n",
    "\n",
    "print(f\"Kích thước dữ liệu sau khi tổng hợp theo giờ: {df_hourly.shape}\")\n",
    "print(\"Dữ liệu theo giờ (5 dòng đầu):\")\n",
    "print(df_hourly.head())"
   ]
  },
  {
   "cell_type": "markdown",
   "id": "6ff59645",
   "metadata": {},
   "source": [
    "## 4. Thêm các chỉ báo kỹ thuật (đặc trưng)"
   ]
  },
  {
   "cell_type": "code",
   "execution_count": null,
   "id": "35f21a6e",
   "metadata": {
    "lines_to_next_cell": 1
   },
   "outputs": [],
   "source": [
    "def add_features(df):\n",
    "    \"\"\"Thêm các đặc trưng kỹ thuật vào DataFrame\"\"\"\n",
    "    # Đường trung bình động theo giờ\n",
    "    df['MA6'] = df['Close'].rolling(window=6).mean()  # MA 6 giờ\n",
    "    df['MA12'] = df['Close'].rolling(window=12).mean()  # MA 12 giờ\n",
    "    df['MA24'] = df['Close'].rolling(window=24).mean()  # MA 24 giờ (1 ngày)\n",
    "    \n",
    "    # Chỉ số sức mạnh tương đối (RSI)\n",
    "    delta = df['Close'].diff()\n",
    "    gain = (delta.where(delta > 0, 0)).rolling(window=14).mean()\n",
    "    loss = (-delta.where(delta < 0, 0)).rolling(window=14).mean()\n",
    "    rs = gain / loss\n",
    "    df['RSI'] = 100 - (100 / (1 + rs))\n",
    "    \n",
    "    # MACD - chỉ báo động lượng\n",
    "    ema12 = df['Close'].ewm(span=12, adjust=False).mean()\n",
    "    ema26 = df['Close'].ewm(span=26, adjust=False).mean()\n",
    "    df['MACD'] = ema12 - ema26\n",
    "    df['MACD_Signal'] = df['MACD'].ewm(span=9, adjust=False).mean()\n",
    "    \n",
    "    # Bollinger Bands\n",
    "    df['MA20'] = df['Close'].rolling(window=20).mean()\n",
    "    std_dev = df['Close'].rolling(window=20).std()\n",
    "    df['BB_Upper'] = df['MA20'] + (std_dev * 2)\n",
    "    df['BB_Lower'] = df['MA20'] - (std_dev * 2)\n",
    "    df['BB_Width'] = (df['BB_Upper'] - df['BB_Lower']) / df['MA20']\n",
    "    \n",
    "    # Độ biến động (Volatility)\n",
    "    df['Volatility'] = df['Close'].pct_change().rolling(window=12).std() * 100\n",
    "    \n",
    "    # Tỷ lệ thay đổi giá (Rate of Change)\n",
    "    df['ROC6'] = ((df['Close'] - df['Close'].shift(6)) / df['Close'].shift(6)) * 100\n",
    "    \n",
    "    # Độ chênh lệch giá\n",
    "    df['Close_Open_Diff'] = df['Close'] - df['Open']\n",
    "    df['High_Low_Diff'] = df['High'] - df['Low']\n",
    "    \n",
    "    # Đặc trưng về thời gian\n",
    "    df['Hour'] = df.index.hour\n",
    "    df['DayOfWeek'] = df.index.dayofweek\n",
    "    \n",
    "    # Mã hóa giờ và ngày theo hình tròn (tránh bước nhảy từ 23 sang 0)\n",
    "    df['Hour_sin'] = np.sin(2 * np.pi * df['Hour']/24)\n",
    "    df['Hour_cos'] = np.cos(2 * np.pi * df['Hour']/24)\n",
    "    df['Day_sin'] = np.sin(2 * np.pi * df['DayOfWeek']/7)\n",
    "    df['Day_cos'] = np.cos(2 * np.pi * df['DayOfWeek']/7)\n",
    "    \n",
    "    # Thêm biến mục tiêu cho việc dự đoán\n",
    "    for i in range(1, 13):  # Tạo mục tiêu cho 12 giờ tới\n",
    "        df[f'Next_{i}h_Price'] = df['Close'].shift(-i)\n",
    "    \n",
    "    return df"
   ]
  },
  {
   "cell_type": "code",
   "execution_count": null,
   "id": "7faf4aa3",
   "metadata": {},
   "outputs": [],
   "source": [
    "# Thêm các đặc trưng kỹ thuật vào dữ liệu\n",
    "df_hourly = add_features(df_hourly)\n",
    "df_hourly.dropna(inplace=True)\n",
    "print(f\"Kích thước dữ liệu sau khi thêm đặc trưng: {df_hourly.shape}\")"
   ]
  },
  {
   "cell_type": "markdown",
   "id": "1d9b88e7",
   "metadata": {},
   "source": [
    "## 5. Trực quan hóa dữ liệu"
   ]
  },
  {
   "cell_type": "code",
   "execution_count": null,
   "id": "5b61438b",
   "metadata": {},
   "outputs": [],
   "source": [
    "# Vẽ biểu đồ giá Bitcoin theo giờ (500 giờ gần nhất)\n",
    "plt.figure(figsize=(15, 6))\n",
    "df_hourly['Close'].tail(500).plot()\n",
    "plt.title('Biến động giá Bitcoin theo giờ (500 giờ gần nhất)')\n",
    "plt.xlabel('Thời gian')\n",
    "plt.ylabel('Giá (USD)')\n",
    "plt.grid(True)\n",
    "plt.show()"
   ]
  },
  {
   "cell_type": "code",
   "execution_count": null,
   "id": "8cf40dde",
   "metadata": {},
   "outputs": [],
   "source": [
    "# Tạo ma trận tương quan\n",
    "plt.figure(figsize=(14, 12))\n",
    "# Chỉ chọn một số cột quan trọng để tránh ma trận quá lớn\n",
    "correlation_columns = ['Open', 'High', 'Low', 'Close', 'Volume', \n",
    "                       'MA6', 'MA12', 'MA24', 'RSI', 'MACD', \n",
    "                       'BB_Width', 'Volatility', 'Next_1h_Price']\n",
    "correlation = df_hourly[correlation_columns].corr()\n",
    "mask = np.triu(correlation)\n",
    "sns.heatmap(correlation, mask=mask, annot=True, cmap='coolwarm', fmt=\".2f\")\n",
    "plt.title('Ma trận tương quan giữa các đặc trưng')\n",
    "plt.tight_layout()\n",
    "plt.show()"
   ]
  },
  {
   "cell_type": "markdown",
   "id": "1bce287c",
   "metadata": {},
   "source": [
    "## 6. Chuẩn bị dữ liệu cho huấn luyện mô hình"
   ]
  },
  {
   "cell_type": "code",
   "execution_count": null,
   "id": "5bf523aa",
   "metadata": {},
   "outputs": [],
   "source": [
    "# Chọn đặc trưng và biến mục tiêu\n",
    "target_column = 'Next_1h_Price'  # Dự đoán giá cho giờ tiếp theo\n",
    "\n",
    "# Loại bỏ các cột không sử dụng làm đặc trưng\n",
    "feature_columns = [col for col in df_hourly.columns if col not in \n",
    "                   ['Open', 'High', 'Low', 'Close', 'Hour', 'DayOfWeek'] + \n",
    "                   [f'Next_{i}h_Price' for i in range(1, 13)]]\n",
    "\n",
    "X = df_hourly[feature_columns]\n",
    "y = df_hourly[target_column]\n",
    "\n",
    "print(f\"Số lượng đặc trưng: {len(feature_columns)}\")\n",
    "print(f\"Các đặc trưng: {feature_columns}\")"
   ]
  },
  {
   "cell_type": "code",
   "execution_count": null,
   "id": "508ca3e7",
   "metadata": {
    "lines_to_next_cell": 1
   },
   "outputs": [],
   "source": [
    "# Chuẩn hóa dữ liệu\n",
    "scaler_X = MinMaxScaler()\n",
    "scaler_y = MinMaxScaler()\n",
    "\n",
    "X_scaled = scaler_X.fit_transform(X)\n",
    "y_scaled = scaler_y.fit_transform(y.values.reshape(-1, 1)).flatten()\n",
    "\n",
    "# Chia dữ liệu thành tập huấn luyện và kiểm tra (không xáo trộn dữ liệu chuỗi thời gian)\n",
    "test_size = 0.2\n",
    "train_size = int(len(X_scaled) * (1 - test_size))\n",
    "\n",
    "X_train, X_test = X_scaled[:train_size], X_scaled[train_size:]\n",
    "y_train, y_test = y_scaled[:train_size], y_scaled[train_size:]\n",
    "\n",
    "print(f\"Kích thước tập huấn luyện: {X_train.shape}\")\n",
    "print(f\"Kích thước tập kiểm tra: {X_test.shape}\")"
   ]
  },
  {
   "cell_type": "markdown",
   "id": "5ef59e71",
   "metadata": {},
   "source": [
    "## 7. Huấn luyện và đánh giá các mô hình hồi quy"
   ]
  },
  {
   "cell_type": "code",
   "execution_count": null,
   "id": "70b80c74",
   "metadata": {
    "lines_to_next_cell": 1
   },
   "outputs": [],
   "source": [
    "def evaluate_model(model, X_train, X_test, y_train, y_test, scaler_y):\n",
    "    \"\"\"Đánh giá hiệu suất của một mô hình hồi quy\"\"\"\n",
    "    # Huấn luyện mô hình\n",
    "    model.fit(X_train, y_train)\n",
    "    \n",
    "    # Dự đoán trên tập kiểm tra\n",
    "    y_pred = model.predict(X_test)\n",
    "    \n",
    "    # Chuyển đổi về giá thực tế\n",
    "    y_test_actual = scaler_y.inverse_transform(y_test.reshape(-1, 1)).flatten()\n",
    "    y_pred_actual = scaler_y.inverse_transform(y_pred.reshape(-1, 1)).flatten()\n",
    "    \n",
    "    # Tính các chỉ số đánh giá\n",
    "    rmse = np.sqrt(mean_squared_error(y_test_actual, y_pred_actual))\n",
    "    mae = mean_absolute_error(y_test_actual, y_pred_actual)\n",
    "    r2 = r2_score(y_test_actual, y_pred_actual)\n",
    "    \n",
    "    return {\n",
    "        'model': model,\n",
    "        'y_pred': y_pred,\n",
    "        'y_pred_actual': y_pred_actual,\n",
    "        'rmse': rmse,\n",
    "        'mae': mae,\n",
    "        'r2': r2\n",
    "    }"
   ]
  },
  {
   "cell_type": "code",
   "execution_count": null,
   "id": "2edff086",
   "metadata": {},
   "outputs": [],
   "source": [
    "# Huấn luyện mô hình Linear Regression (Lecture 3)\n",
    "print(\"Huấn luyện mô hình Linear Regression...\")\n",
    "lr_model = LinearRegression()\n",
    "lr_results = evaluate_model(lr_model, X_train, X_test, y_train, y_test, scaler_y)\n",
    "\n",
    "print(\"Kết quả đánh giá:\")\n",
    "print(f\"RMSE: ${lr_results['rmse']:.2f}\")\n",
    "print(f\"MAE: ${lr_results['mae']:.2f}\")\n",
    "print(f\"R^2: {lr_results['r2']:.4f}\")"
   ]
  },
  {
   "cell_type": "code",
   "execution_count": null,
   "id": "97a2bb49",
   "metadata": {},
   "outputs": [],
   "source": [
    "# Huấn luyện mô hình Ridge Regression (Lecture 3)\n",
    "print(\"Huấn luyện mô hình Ridge Regression...\")\n",
    "ridge_model = Ridge(alpha=1.0)\n",
    "ridge_results = evaluate_model(ridge_model, X_train, X_test, y_train, y_test, scaler_y)\n",
    "\n",
    "print(\"Kết quả đánh giá:\")\n",
    "print(f\"RMSE: ${ridge_results['rmse']:.2f}\")\n",
    "print(f\"MAE: ${ridge_results['mae']:.2f}\")\n",
    "print(f\"R^2: {ridge_results['r2']:.4f}\")"
   ]
  },
  {
   "cell_type": "code",
   "execution_count": null,
   "id": "13671e7f",
   "metadata": {},
   "outputs": [],
   "source": [
    "# Huấn luyện mô hình Decision Tree Regression (Lecture 8)\n",
    "print(\"Huấn luyện mô hình Decision Tree...\")\n",
    "dt_model = DecisionTreeRegressor(random_state=42)\n",
    "dt_results = evaluate_model(dt_model, X_train, X_test, y_train, y_test, scaler_y)\n",
    "\n",
    "print(\"Kết quả đánh giá:\")\n",
    "print(f\"RMSE: ${dt_results['rmse']:.2f}\")\n",
    "print(f\"MAE: ${dt_results['mae']:.2f}\")\n",
    "print(f\"R^2: {dt_results['r2']:.4f}\")"
   ]
  },
  {
   "cell_type": "code",
   "execution_count": null,
   "id": "a35db2d9",
   "metadata": {},
   "outputs": [],
   "source": [
    "# Huấn luyện mô hình Random Forest Regression (Lecture 8)\n",
    "print(\"Huấn luyện mô hình Random Forest...\")\n",
    "rf_model = RandomForestRegressor(n_estimators=100, random_state=42)\n",
    "rf_results = evaluate_model(rf_model, X_train, X_test, y_train, y_test, scaler_y)\n",
    "\n",
    "print(\"Kết quả đánh giá:\")\n",
    "print(f\"RMSE: ${rf_results['rmse']:.2f}\")\n",
    "print(f\"MAE: ${rf_results['mae']:.2f}\")\n",
    "print(f\"R^2: {rf_results['r2']:.4f}\")"
   ]
  },
  {
   "cell_type": "code",
   "execution_count": null,
   "id": "48860875",
   "metadata": {},
   "outputs": [],
   "source": [
    "# Huấn luyện mô hình K-Nearest Neighbors Regression (Lecture 7)\n",
    "print(\"Huấn luyện mô hình KNN...\")\n",
    "knn_model = KNeighborsRegressor(n_neighbors=5)\n",
    "knn_results = evaluate_model(knn_model, X_train, X_test, y_train, y_test, scaler_y)\n",
    "\n",
    "print(\"Kết quả đánh giá:\")\n",
    "print(f\"RMSE: ${knn_results['rmse']:.2f}\")\n",
    "print(f\"MAE: ${knn_results['mae']:.2f}\")\n",
    "print(f\"R^2: {knn_results['r2']:.4f}\")"
   ]
  },
  {
   "cell_type": "code",
   "execution_count": null,
   "id": "c12f4526",
   "metadata": {},
   "outputs": [],
   "source": [
    "# Huấn luyện mô hình Support Vector Regression (Lecture 11)\n",
    "print(\"Huấn luyện mô hình SVR...\")\n",
    "svr_model = SVR(kernel='rbf', C=1.0)\n",
    "svr_results = evaluate_model(svr_model, X_train, X_test, y_train, y_test, scaler_y)\n",
    "\n",
    "print(\"Kết quả đánh giá:\")\n",
    "print(f\"RMSE: ${svr_results['rmse']:.2f}\")\n",
    "print(f\"MAE: ${svr_results['mae']:.2f}\")\n",
    "print(f\"R^2: {svr_results['r2']:.4f}\")"
   ]
  },
  {
   "cell_type": "markdown",
   "id": "9f759cc2",
   "metadata": {},
   "source": [
    "## 8. So sánh và lựa chọn mô hình tốt nhất"
   ]
  },
  {
   "cell_type": "code",
   "execution_count": null,
   "id": "278134f5",
   "metadata": {},
   "outputs": [],
   "source": [
    "# So sánh hiệu suất của các mô hình\n",
    "models = ['Linear Regression', 'Ridge Regression', 'Decision Tree', \n",
    "          'Random Forest', 'KNN', 'SVR']\n",
    "results = [lr_results, ridge_results, dt_results, rf_results, knn_results, svr_results]\n",
    "\n",
    "# Vẽ biểu đồ so sánh RMSE\n",
    "plt.figure(figsize=(14, 6))\n",
    "rmse_values = [result['rmse'] for result in results]\n",
    "plt.bar(models, rmse_values, color=['blue', 'green', 'red', 'orange', 'purple', 'brown'])\n",
    "plt.title('So sánh RMSE giữa các mô hình')\n",
    "plt.xlabel('Mô hình')\n",
    "plt.ylabel('RMSE (USD)')\n",
    "plt.xticks(rotation=45)\n",
    "for i, v in enumerate(rmse_values):\n",
    "    plt.text(i, v + 5, f'${v:.2f}', ha='center')\n",
    "plt.tight_layout()\n",
    "plt.show()"
   ]
  },
  {
   "cell_type": "code",
   "execution_count": null,
   "id": "9d9ec9f4",
   "metadata": {},
   "outputs": [],
   "source": [
    "# Vẽ biểu đồ so sánh R^2\n",
    "plt.figure(figsize=(14, 6))\n",
    "r2_values = [result['r2'] for result in results]\n",
    "plt.bar(models, r2_values, color=['blue', 'green', 'red', 'orange', 'purple', 'brown'])\n",
    "plt.title('So sánh R² giữa các mô hình')\n",
    "plt.xlabel('Mô hình')\n",
    "plt.ylabel('R²')\n",
    "plt.xticks(rotation=45)\n",
    "for i, v in enumerate(r2_values):\n",
    "    plt.text(i, v + 0.01, f'{v:.4f}', ha='center')\n",
    "plt.tight_layout()\n",
    "plt.show()"
   ]
  },
  {
   "cell_type": "code",
   "execution_count": null,
   "id": "178a6404",
   "metadata": {},
   "outputs": [],
   "source": [
    "# Xác định mô hình tốt nhất dựa trên RMSE (giá trị càng thấp càng tốt)\n",
    "best_model_index = np.argmin(rmse_values)\n",
    "best_model_name = models[best_model_index]\n",
    "best_model = results[best_model_index]['model']\n",
    "best_results = results[best_model_index]\n",
    "\n",
    "print(f\"\\nMô hình có hiệu suất tốt nhất dựa trên RMSE: {best_model_name}\")\n",
    "print(f\"RMSE: ${best_results['rmse']:.2f}\")\n",
    "print(f\"MAE: ${best_results['mae']:.2f}\")\n",
    "print(f\"R^2: {best_results['r2']:.4f}\")"
   ]
  },
  {
   "cell_type": "markdown",
   "id": "98f1f991",
   "metadata": {},
   "source": [
    "## 9. Tối ưu hóa siêu tham số cho mô hình tốt nhất"
   ]
  },
  {
   "cell_type": "code",
   "execution_count": null,
   "id": "25110610",
   "metadata": {
    "lines_to_next_cell": 1
   },
   "outputs": [],
   "source": [
    "# Tối ưu hóa siêu tham số cho mô hình Random Forest (nếu đó là mô hình tốt nhất)\n",
    "if best_model_name == \"Random Forest\":\n",
    "    print(\"\\nĐang tối ưu hóa siêu tham số cho Random Forest...\")\n",
    "    \n",
    "    param_grid = {\n",
    "        'n_estimators': [100, 200],\n",
    "        'max_depth': [None, 10, 20],\n",
    "        'min_samples_split': [2, 5, 10]\n",
    "    }\n",
    "    \n",
    "    grid_search = GridSearchCV(\n",
    "        RandomForestRegressor(random_state=42), \n",
    "        param_grid, \n",
    "        cv=3, \n",
    "        scoring='neg_mean_squared_error',\n",
    "        n_jobs=-1\n",
    "    )\n",
    "    \n",
    "    grid_search.fit(X_train, y_train)\n",
    "    \n",
    "    print(f\"Siêu tham số tốt nhất: {grid_search.best_params_}\")\n",
    "    \n",
    "    # Cập nhật mô hình tốt nhất với siêu tham số tối ưu\n",
    "    best_model = grid_search.best_estimator_\n",
    "    \n",
    "    # Đánh giá lại mô hình tối ưu\n",
    "    best_results = evaluate_model(best_model, X_train, X_test, y_train, y_test, scaler_y)\n",
    "    \n",
    "    print(\"Kết quả sau khi tối ưu hóa:\")\n",
    "    print(f\"RMSE: ${best_results['rmse']:.2f}\")\n",
    "    print(f\"MAE: ${best_results['mae']:.2f}\")\n",
    "    print(f\"R^2: {best_results['r2']:.4f}\")\n",
    "    \n",
    "    # Hiển thị tầm quan trọng của đặc trưng\n",
    "    feature_importance = pd.DataFrame({\n",
    "        'Feature': X.columns,\n",
    "        'Importance': best_model.feature_importances_\n",
    "    }).sort_values('Importance', ascending=False)\n",
    "    \n",
    "    plt.figure(figsize=(12, 8))\n",
    "    sns.barplot(x='Importance', y='Feature', data=feature_importance.head(10))\n",
    "    plt.title('Top 10 đặc trưng quan trọng nhất')\n",
    "    plt.tight_layout()\n",
    "    plt.show()"
   ]
  },
  {
   "cell_type": "markdown",
   "id": "29605060",
   "metadata": {},
   "source": [
    "## 10. Dự đoán giá Bitcoin cho 12 giờ tới"
   ]
  },
  {
   "cell_type": "code",
   "execution_count": null,
   "id": "74412d79",
   "metadata": {
    "lines_to_next_cell": 1
   },
   "outputs": [],
   "source": [
    "def predict_next_hours(model, last_data, scaler_y, hours=12):\n",
    "    \"\"\"Dự đoán giá Bitcoin cho một số giờ tiếp theo\"\"\"\n",
    "    forecasted_prices = []\n",
    "    \n",
    "    # Lấy dữ liệu mới nhất\n",
    "    current_data = last_data.copy()\n",
    "    \n",
    "    for _ in range(hours):\n",
    "        # Dự đoán giá cho giờ tiếp theo\n",
    "        prediction_scaled = model.predict(current_data.reshape(1, -1))[0]\n",
    "        \n",
    "        # Chuyển đổi về giá thực tế\n",
    "        prediction = scaler_y.inverse_transform([[prediction_scaled]])[0][0]\n",
    "        forecasted_prices.append(prediction)\n",
    "        \n",
    "        # Trong thực tế, ta cần cập nhật các đặc trưng để dự đoán giờ tiếp theo\n",
    "        # Đây là một cách đơn giản hóa\n",
    "    \n",
    "    return forecasted_prices"
   ]
  },
  {
   "cell_type": "code",
   "execution_count": null,
   "id": "f2b6e5df",
   "metadata": {},
   "outputs": [],
   "source": [
    "# Lấy dữ liệu mới nhất để dự đoán\n",
    "last_data = X_scaled[-1]\n",
    "\n",
    "# Dự đoán giá cho 12 giờ tới\n",
    "future_prices = predict_next_hours(best_model, last_data, scaler_y, hours=12)\n",
    "\n",
    "# Tạo dãy thời gian cho dự báo\n",
    "last_time = df_hourly.index[-1]\n",
    "future_times = [last_time + dt.timedelta(hours=i+1) for i in range(12)]\n",
    "\n",
    "# Hiển thị kết quả dự báo\n",
    "print(\"\\nDự đoán giá Bitcoin trong 12 giờ tới:\")\n",
    "for time, price in zip(future_times, future_prices):\n",
    "    print(f\"{time.strftime('%Y-%m-%d %H:%M')}: ${price:.2f}\")"
   ]
  },
  {
   "cell_type": "code",
   "execution_count": null,
   "id": "d55f50ba",
   "metadata": {},
   "outputs": [],
   "source": [
    "# Trực quan hóa dự báo\n",
    "plt.figure(figsize=(15, 6))\n",
    "\n",
    "# Lấy dữ liệu lịch sử để vẽ biểu đồ\n",
    "historical_times = df_hourly.index[-48:]  # 48 giờ cuối\n",
    "historical_prices = df_hourly['Close'].iloc[-48:].values\n",
    "\n",
    "# Vẽ dữ liệu lịch sử và dự báo\n",
    "plt.plot(historical_times, historical_prices, 'b-', label='Giá lịch sử')\n",
    "plt.plot(future_times, future_prices, 'r--', marker='o', label='Giá dự báo')\n",
    "\n",
    "plt.title(f'Dự báo giá Bitcoin trong 12 giờ tới (sử dụng {best_model_name})')\n",
    "plt.xlabel('Thời gian')\n",
    "plt.ylabel('Giá (USD)')\n",
    "plt.legend()\n",
    "plt.grid(True)\n",
    "plt.xticks(rotation=45)\n",
    "plt.tight_layout()\n",
    "plt.show()"
   ]
  },
  {
   "cell_type": "markdown",
   "id": "6abd4867",
   "metadata": {},
   "source": [
    "## 11. Kết luận"
   ]
  },
  {
   "cell_type": "code",
   "execution_count": null,
   "id": "a3a07d37",
   "metadata": {},
   "outputs": [],
   "source": [
    "print(\"\\n=== Kết luận ===\")\n",
    "print(f\"Mô hình {best_model_name} đã được chọn là mô hình tốt nhất cho dự đoán giá Bitcoin theo giờ.\")\n",
    "print(f\"RMSE của mô hình: ${best_results['rmse']:.2f}\")\n",
    "print(f\"R² của mô hình: {best_results['r2']:.4f}\")\n",
    "\n",
    "print(\"\\nCác mô hình đã sử dụng từ slide môn học:\")\n",
    "print(\"1. Linear Regression (Lecture 3): Mô hình hồi quy tuyến tính cơ bản\")\n",
    "print(\"2. Ridge Regression (Lecture 3): Hồi quy với điều chuẩn L2\")\n",
    "print(\"3. Decision Tree (Lecture 8): Cây quyết định cho hồi quy\")\n",
    "print(\"4. Random Forest (Lecture 8): Tập hợp nhiều cây quyết định\")\n",
    "print(\"5. KNN (Lecture 7): K-Nearest Neighbors Regression\")\n",
    "print(\"6. SVR (Lecture 11): Support Vector Regression\")\n",
    "\n",
    "if best_model_name == \"Random Forest\" and 'feature_importance' in locals():\n",
    "    print(f\"\\nTop 3 đặc trưng quan trọng nhất:\")\n",
    "    for i in range(3):\n",
    "        print(f\"{i+1}. {feature_importance['Feature'].iloc[i]}: {feature_importance['Importance'].iloc[i]:.4f}\")\n",
    "\n",
    "print(\"\\nLưu ý: Thị trường tiền điện tử rất biến động và dự đoán này chỉ nên được sử dụng như một tham khảo, không nên dùng làm cơ sở duy nhất cho quyết định đầu tư.\")"
   ]
  }
 ],
 "metadata": {
  "jupytext": {
   "cell_metadata_filter": "-all",
   "main_language": "python",
   "notebook_metadata_filter": "-all"
  }
 },
 "nbformat": 4,
 "nbformat_minor": 5
}
