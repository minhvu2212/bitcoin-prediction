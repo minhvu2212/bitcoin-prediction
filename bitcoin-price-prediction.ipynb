{
 "cells": [
  {
   "cell_type": "markdown",
   "id": "c03b26fe",
   "metadata": {},
   "source": [
    "# Dự đoán giá Bitcoin theo giờ\n",
    "Nhập môn Học máy và Khai phá dữ liệu (IT3190)"
   ]
  },
  {
   "cell_type": "markdown",
   "id": "39515b29",
   "metadata": {},
   "source": [
    "## 1. Import các thư viện cần thiết"
   ]
  },
  {
   "cell_type": "code",
   "execution_count": null,
   "id": "f03a8fc6",
   "metadata": {},
   "outputs": [],
   "source": [
    "# Cài đặt thư viện technical analysis nếu chưa có\n",
    "!pip install ta"
   ]
  },
  {
   "cell_type": "code",
   "execution_count": null,
   "id": "da12ac67",
   "metadata": {},
   "outputs": [],
   "source": [
    "# Import thư viện\n",
    "import numpy as np\n",
    "import pandas as pd\n",
    "import matplotlib.pyplot as plt\n",
    "import seaborn as sns\n",
    "from sklearn.preprocessing import MinMaxScaler\n",
    "from sklearn.model_selection import train_test_split, cross_val_score, GridSearchCV\n",
    "from sklearn.metrics import mean_squared_error, mean_absolute_error, r2_score\n",
    "import datetime as dt\n",
    "import warnings\n",
    "warnings.filterwarnings('ignore')\n",
    "\n",
    "# Các mô hình hồi quy từ slide\n",
    "from sklearn.linear_model import LinearRegression, Ridge\n",
    "from sklearn.ensemble import RandomForestRegressor\n",
    "\n",
    "# Thư viện cho phân tích kỹ thuật\n",
    "import ta"
   ]
  },
  {
   "cell_type": "markdown",
   "id": "8c21bc12",
   "metadata": {},
   "source": [
    "## 2. Tải và khám phá dữ liệu"
   ]
  },
  {
   "cell_type": "code",
   "execution_count": null,
   "id": "fe876112",
   "metadata": {},
   "outputs": [],
   "source": [
    "# Tải dữ liệu\n",
    "print(\"Đang tải dữ liệu lịch sử Bitcoin...\")\n",
    "df = pd.read_csv('btcusd_1-min_data.csv')\n",
    "print(f\"Kích thước dữ liệu: {df.shape}\")"
   ]
  },
  {
   "cell_type": "code",
   "execution_count": null,
   "id": "cf7aadcb",
   "metadata": {},
   "outputs": [],
   "source": [
    "# Tiền xử lý dữ liệu\n",
    "# Chuyển đổi timestamp sang dạng datetime\n",
    "df['Timestamp'] = pd.to_datetime(df['Timestamp'], unit='s')\n",
    "df.set_index('Timestamp', inplace=True)\n",
    "print(\"Thông tin 5 dòng đầu tiên:\")\n",
    "print(df.head())"
   ]
  },
  {
   "cell_type": "code",
   "execution_count": null,
   "id": "abe32914",
   "metadata": {},
   "outputs": [],
   "source": [
    "# Kiểm tra thông tin thống kê cơ bản\n",
    "print(\"Thống kê mô tả:\")\n",
    "print(df.describe())"
   ]
  },
  {
   "cell_type": "code",
   "execution_count": null,
   "id": "1cadd49e",
   "metadata": {},
   "outputs": [],
   "source": [
    "# Kiểm tra giá trị thiếu\n",
    "print(\"Giá trị thiếu trong dữ liệu:\")\n",
    "print(df.isnull().sum())\n",
    "df.dropna(inplace=True)\n",
    "print(f\"Kích thước dữ liệu sau khi loại bỏ giá trị thiếu: {df.shape}\")"
   ]
  },
  {
   "cell_type": "markdown",
   "id": "2bc71a3b",
   "metadata": {},
   "source": [
    "## 3. Tổng hợp dữ liệu theo giờ"
   ]
  },
  {
   "cell_type": "code",
   "execution_count": null,
   "id": "85dd38e4",
   "metadata": {
    "lines_to_next_cell": 1
   },
   "outputs": [],
   "source": [
    "# Lấy mẫu dữ liệu theo giờ thay vì theo ngày\n",
    "df_hourly = df.resample('H').agg({\n",
    "    'Open': 'first',\n",
    "    'High': 'max',\n",
    "    'Low': 'min',\n",
    "    'Close': 'last',\n",
    "    'Volume': 'sum'\n",
    "}).dropna()\n",
    "\n",
    "print(f\"Kích thước dữ liệu sau khi tổng hợp theo giờ: {df_hourly.shape}\")\n",
    "print(\"Dữ liệu theo giờ (5 dòng đầu):\")\n",
    "print(df_hourly.head())"
   ]
  },
  {
   "cell_type": "markdown",
   "id": "73653e30",
   "metadata": {},
   "source": [
    "## 4. Thêm chỉ báo kỹ thuật"
   ]
  },
  {
   "cell_type": "code",
   "execution_count": null,
   "id": "2d36d03d",
   "metadata": {
    "lines_to_next_cell": 1
   },
   "outputs": [],
   "source": [
    "def add_technical_indicators(df):\n",
    "    \"\"\"Thêm các chỉ báo kỹ thuật vào DataFrame theo giờ\"\"\"\n",
    "    # Đường trung bình động (Moving Averages) - điều chỉnh cửa sổ cho dữ liệu theo giờ\n",
    "    df['MA6'] = df['Close'].rolling(window=6).mean()  # MA 6 giờ\n",
    "    df['MA12'] = df['Close'].rolling(window=12).mean()  # MA 12 giờ\n",
    "    df['MA24'] = df['Close'].rolling(window=24).mean()  # MA 24 giờ (1 ngày)\n",
    "    \n",
    "    # Độ biến động (Volatility)\n",
    "    df['Volatility'] = df['Close'].pct_change().rolling(window=12).std() * 100\n",
    "    \n",
    "    # Tỷ lệ thay đổi giá (Rate of Change - ROC)\n",
    "    df['ROC6'] = ((df['Close'] - df['Close'].shift(6)) / df['Close'].shift(6)) * 100\n",
    "    \n",
    "    # Chỉ số sức mạnh tương đối (RSI) - điều chỉnh cửa sổ cho dữ liệu theo giờ\n",
    "    delta = df['Close'].diff()\n",
    "    gain = (delta.where(delta > 0, 0)).rolling(window=14).mean()\n",
    "    loss = (-delta.where(delta < 0, 0)).rolling(window=14).mean()\n",
    "    rs = gain / loss\n",
    "    df['RSI'] = 100 - (100 / (1 + rs))\n",
    "    \n",
    "    # MACD - điều chỉnh tham số cho dữ liệu theo giờ\n",
    "    ema12 = df['Close'].ewm(span=12, adjust=False).mean()\n",
    "    ema26 = df['Close'].ewm(span=26, adjust=False).mean()\n",
    "    df['MACD'] = ema12 - ema26\n",
    "    df['MACD_Signal'] = df['MACD'].ewm(span=9, adjust=False).mean()\n",
    "    \n",
    "    # Bollinger Bands\n",
    "    df['MA20'] = df['Close'].rolling(window=20).mean()  # Cần thiết cho Bollinger Bands\n",
    "    std_dev = df['Close'].rolling(window=20).std()\n",
    "    df['BB_Upper'] = df['MA20'] + (std_dev * 2)\n",
    "    df['BB_Lower'] = df['MA20'] - (std_dev * 2)\n",
    "    df['BB_Width'] = (df['BB_Upper'] - df['BB_Lower']) / df['MA20']\n",
    "    \n",
    "    # Độ chênh lệch giá\n",
    "    df['Close_Open_Diff'] = df['Close'] - df['Open']\n",
    "    df['High_Low_Diff'] = df['High'] - df['Low']\n",
    "    \n",
    "    # Thêm dữ liệu về giờ trong ngày (có thể có tính mùa vụ)\n",
    "    df['Hour'] = df.index.hour\n",
    "    \n",
    "    # Thêm thông tin về ngày trong tuần (0=Thứ 2, 6=Chủ nhật)\n",
    "    df['DayOfWeek'] = df.index.dayofweek\n",
    "    \n",
    "    # Chuyển giờ và ngày thành các biến dummy theo hướng circular encoding \n",
    "    # để tránh jump lớn giữa giờ 23 và 0\n",
    "    df['Hour_sin'] = np.sin(2 * np.pi * df['Hour']/24)\n",
    "    df['Hour_cos'] = np.cos(2 * np.pi * df['Hour']/24)\n",
    "    df['Day_sin'] = np.sin(2 * np.pi * df['DayOfWeek']/7)\n",
    "    df['Day_cos'] = np.cos(2 * np.pi * df['DayOfWeek']/7)\n",
    "    \n",
    "    # Thêm biến mục tiêu cho việc dự đoán\n",
    "    for i in range(1, 13):  # Tạo mục tiêu cho 12 giờ tới\n",
    "        df[f'Next_{i}h_Price'] = df['Close'].shift(-i)\n",
    "    \n",
    "    return df"
   ]
  },
  {
   "cell_type": "code",
   "execution_count": null,
   "id": "6ebbc64f",
   "metadata": {},
   "outputs": [],
   "source": [
    "# Thêm chỉ báo kỹ thuật vào dữ liệu theo giờ\n",
    "df_hourly = add_technical_indicators(df_hourly)\n",
    "df_hourly.dropna(inplace=True)\n",
    "print(f\"Kích thước dữ liệu sau khi thêm chỉ báo kỹ thuật: {df_hourly.shape}\")"
   ]
  },
  {
   "cell_type": "markdown",
   "id": "a517fc71",
   "metadata": {},
   "source": [
    "## 5. Trực quan hóa dữ liệu"
   ]
  },
  {
   "cell_type": "code",
   "execution_count": null,
   "id": "6278343f",
   "metadata": {},
   "outputs": [],
   "source": [
    "# Vẽ biểu đồ giá Bitcoin theo giờ (chỉ lấy 500 giờ gần nhất để dễ quan sát)\n",
    "plt.figure(figsize=(15, 6))\n",
    "df_hourly['Close'].tail(500).plot()\n",
    "plt.title('Biến động giá Bitcoin theo giờ (500 giờ gần nhất)')\n",
    "plt.xlabel('Thời gian')\n",
    "plt.ylabel('Giá (USD)')\n",
    "plt.grid(True)\n",
    "plt.show()"
   ]
  },
  {
   "cell_type": "code",
   "execution_count": null,
   "id": "b61b4f61",
   "metadata": {},
   "outputs": [],
   "source": [
    "# Tạo ma trận tương quan\n",
    "plt.figure(figsize=(16, 14))\n",
    "# Chỉ chọn một số cột quan trọng để tránh ma trận quá lớn\n",
    "correlation_columns = ['Open', 'High', 'Low', 'Close', 'Volume', 'MA6', 'MA12', 'MA24', \n",
    "                       'Volatility', 'ROC6', 'RSI', 'MACD', 'BB_Width', 'Next_1h_Price']\n",
    "correlation = df_hourly[correlation_columns].corr()\n",
    "mask = np.triu(correlation)\n",
    "sns.heatmap(correlation, mask=mask, annot=True, cmap='coolwarm', linewidths=0.5, fmt=\".2f\")\n",
    "plt.title('Ma trận tương quan giữa các đặc trưng')\n",
    "plt.xticks(rotation=45)\n",
    "plt.tight_layout()\n",
    "plt.show()"
   ]
  },
  {
   "cell_type": "markdown",
   "id": "28b974f6",
   "metadata": {},
   "source": [
    "## 6. Chuẩn bị dữ liệu cho huấn luyện mô hình"
   ]
  },
  {
   "cell_type": "code",
   "execution_count": null,
   "id": "7f6d842c",
   "metadata": {},
   "outputs": [],
   "source": [
    "# Chuẩn bị dữ liệu cho mô hình dự đoán giá cho giờ tiếp theo\n",
    "target_column = 'Next_1h_Price'  # Dự đoán giá cho giờ tiếp theo\n",
    "\n",
    "# Tách đặc trưng và biến mục tiêu\n",
    "feature_columns = [col for col in df_hourly.columns if col not in ['Open', 'High', 'Low', 'Close', 'Hour', 'DayOfWeek'] + \n",
    "                   [f'Next_{i}h_Price' for i in range(1, 13)]]\n",
    "\n",
    "X = df_hourly[feature_columns]\n",
    "y = df_hourly[target_column]"
   ]
  },
  {
   "cell_type": "code",
   "execution_count": null,
   "id": "a89cd86e",
   "metadata": {
    "lines_to_next_cell": 1
   },
   "outputs": [],
   "source": [
    "# Chuẩn hóa dữ liệu\n",
    "scaler_X = MinMaxScaler()\n",
    "scaler_y = MinMaxScaler()\n",
    "\n",
    "X_scaled = scaler_X.fit_transform(X)\n",
    "y_scaled = scaler_y.fit_transform(y.values.reshape(-1, 1)).flatten()\n",
    "\n",
    "# Phân chia dữ liệu thành tập huấn luyện và tập kiểm tra\n",
    "# Vì là dữ liệu chuỗi thời gian, chúng ta không xáo trộn dữ liệu\n",
    "test_size = 0.2  # 20% dữ liệu cho kiểm tra\n",
    "train_size = int(len(X_scaled) * (1 - test_size))\n",
    "\n",
    "X_train, X_test = X_scaled[:train_size], X_scaled[train_size:]\n",
    "y_train, y_test = y_scaled[:train_size], y_scaled[train_size:]\n",
    "\n",
    "print(f\"Kích thước tập huấn luyện: {X_train.shape}\")\n",
    "print(f\"Kích thước tập kiểm tra: {X_test.shape}\")"
   ]
  },
  {
   "cell_type": "markdown",
   "id": "939c5e91",
   "metadata": {},
   "source": [
    "## 7. Huấn luyện và đánh giá các mô hình hồi quy"
   ]
  },
  {
   "cell_type": "code",
   "execution_count": null,
   "id": "ee2448d4",
   "metadata": {
    "lines_to_next_cell": 1
   },
   "outputs": [],
   "source": [
    "def evaluate_model(model, X_train, X_test, y_train, y_test, scaler_y):\n",
    "    \"\"\"Đánh giá hiệu suất của một mô hình hồi quy\"\"\"\n",
    "    # Huấn luyện mô hình\n",
    "    model.fit(X_train, y_train)\n",
    "    \n",
    "    # Dự đoán trên tập kiểm tra\n",
    "    y_pred = model.predict(X_test)\n",
    "    \n",
    "    # Chuyển đổi về giá thực tế\n",
    "    y_test_actual = scaler_y.inverse_transform(y_test.reshape(-1, 1)).flatten()\n",
    "    y_pred_actual = scaler_y.inverse_transform(y_pred.reshape(-1, 1)).flatten()\n",
    "    \n",
    "    # Tính toán các chỉ số đánh giá\n",
    "    rmse = np.sqrt(mean_squared_error(y_test_actual, y_pred_actual))\n",
    "    mae = mean_absolute_error(y_test_actual, y_pred_actual)\n",
    "    r2 = r2_score(y_test_actual, y_pred_actual)\n",
    "    \n",
    "    # Tính độ lệch trung bình phần trăm tuyệt đối (MAPE)\n",
    "    mape = np.mean(np.abs((y_test_actual - y_pred_actual) / y_test_actual)) * 100\n",
    "    \n",
    "    return {\n",
    "        'model': model,\n",
    "        'y_pred': y_pred,\n",
    "        'y_pred_actual': y_pred_actual,\n",
    "        'rmse': rmse,\n",
    "        'mae': mae,\n",
    "        'r2': r2,\n",
    "        'mape': mape\n",
    "    }"
   ]
  },
  {
   "cell_type": "code",
   "execution_count": null,
   "id": "ca7dd9e7",
   "metadata": {},
   "outputs": [],
   "source": [
    "# 1. Linear Regression\n",
    "print(\"Huấn luyện mô hình Linear Regression...\")\n",
    "lr_model = LinearRegression()\n",
    "lr_results = evaluate_model(lr_model, X_train, X_test, y_train, y_test, scaler_y)\n",
    "\n",
    "print(\"\\nKết quả đánh giá mô hình Linear Regression:\")\n",
    "print(f\"RMSE: ${lr_results['rmse']:.2f}\")\n",
    "print(f\"MAE: ${lr_results['mae']:.2f}\")\n",
    "print(f\"R^2: {lr_results['r2']:.4f}\")\n",
    "print(f\"MAPE: {lr_results['mape']:.4f}%\")"
   ]
  },
  {
   "cell_type": "code",
   "execution_count": null,
   "id": "120ec0c1",
   "metadata": {},
   "outputs": [],
   "source": [
    "# 2. Ridge Regression\n",
    "print(\"\\nHuấn luyện mô hình Ridge Regression...\")\n",
    "ridge_model = Ridge(alpha=1.0)  # alpha là tham số điều chỉnh độ phức tạp của mô hình\n",
    "ridge_results = evaluate_model(ridge_model, X_train, X_test, y_train, y_test, scaler_y)\n",
    "\n",
    "print(\"\\nKết quả đánh giá mô hình Ridge Regression:\")\n",
    "print(f\"RMSE: ${ridge_results['rmse']:.2f}\")\n",
    "print(f\"MAE: ${ridge_results['mae']:.2f}\")\n",
    "print(f\"R^2: {ridge_results['r2']:.4f}\")\n",
    "print(f\"MAPE: {ridge_results['mape']:.4f}%\")"
   ]
  },
  {
   "cell_type": "code",
   "execution_count": null,
   "id": "a7ac154f",
   "metadata": {},
   "outputs": [],
   "source": [
    "# 3. Random Forest Regression\n",
    "print(\"\\nHuấn luyện mô hình Random Forest...\")\n",
    "rf_model = RandomForestRegressor(n_estimators=100, random_state=42)\n",
    "rf_results = evaluate_model(rf_model, X_train, X_test, y_train, y_test, scaler_y)\n",
    "\n",
    "print(\"\\nKết quả đánh giá mô hình Random Forest:\")\n",
    "print(f\"RMSE: ${rf_results['rmse']:.2f}\")\n",
    "print(f\"MAE: ${rf_results['mae']:.2f}\")\n",
    "print(f\"R^2: {rf_results['r2']:.4f}\")\n",
    "print(f\"MAPE: {rf_results['mape']:.4f}%\")"
   ]
  },
  {
   "cell_type": "markdown",
   "id": "67ae4018",
   "metadata": {},
   "source": [
    "## 8. So sánh và lựa chọn mô hình tốt nhất"
   ]
  },
  {
   "cell_type": "code",
   "execution_count": null,
   "id": "ae788da4",
   "metadata": {},
   "outputs": [],
   "source": [
    "# So sánh hiệu suất của các mô hình\n",
    "models = ['Linear Regression', 'Ridge Regression', 'Random Forest']\n",
    "rmse_values = [lr_results['rmse'], ridge_results['rmse'], rf_results['rmse']]\n",
    "mae_values = [lr_results['mae'], ridge_results['mae'], rf_results['mae']]\n",
    "r2_values = [lr_results['r2'], ridge_results['r2'], rf_results['r2']]\n",
    "mape_values = [lr_results['mape'], ridge_results['mape'], rf_results['mape']]\n",
    "\n",
    "# Tạo biểu đồ so sánh RMSE\n",
    "plt.figure(figsize=(12, 6))\n",
    "plt.bar(models, rmse_values, color=['blue', 'green', 'orange'])\n",
    "plt.title('So sánh RMSE giữa các mô hình')\n",
    "plt.xlabel('Mô hình')\n",
    "plt.ylabel('RMSE (USD)')\n",
    "for i, v in enumerate(rmse_values):\n",
    "    plt.text(i, v + 5, f'${v:.2f}', ha='center')\n",
    "plt.show()\n",
    "\n",
    "# Tạo biểu đồ so sánh R^2\n",
    "plt.figure(figsize=(12, 6))\n",
    "plt.bar(models, r2_values, color=['blue', 'green', 'orange'])\n",
    "plt.title('So sánh R² giữa các mô hình')\n",
    "plt.xlabel('Mô hình')\n",
    "plt.ylabel('R²')\n",
    "for i, v in enumerate(r2_values):\n",
    "    plt.text(i, v + 0.01, f'{v:.4f}', ha='center')\n",
    "plt.show()"
   ]
  },
  {
   "cell_type": "code",
   "execution_count": null,
   "id": "184647da",
   "metadata": {},
   "outputs": [],
   "source": [
    "# Xác định mô hình tốt nhất dựa trên RMSE (giá trị càng thấp càng tốt)\n",
    "best_model_index = np.argmin(rmse_values)\n",
    "best_model_name = models[best_model_index]\n",
    "print(f\"\\nMô hình có hiệu suất tốt nhất dựa trên RMSE: {best_model_name}\")\n",
    "\n",
    "# Lấy mô hình tốt nhất\n",
    "if best_model_name == 'Linear Regression':\n",
    "    best_model = lr_model\n",
    "    best_results = lr_results\n",
    "elif best_model_name == 'Ridge Regression':\n",
    "    best_model = ridge_model\n",
    "    best_results = ridge_results\n",
    "else:\n",
    "    best_model = rf_model\n",
    "    best_results = rf_results"
   ]
  },
  {
   "cell_type": "code",
   "execution_count": null,
   "id": "47efa972",
   "metadata": {},
   "outputs": [],
   "source": [
    "# Trực quan hóa kết quả dự đoán của mô hình tốt nhất\n",
    "plt.figure(figsize=(15, 6))\n",
    "\n",
    "# Lấy giá thực tế từ tập kiểm tra\n",
    "y_test_actual = scaler_y.inverse_transform(y_test.reshape(-1, 1)).flatten()\n",
    "\n",
    "# Chỉ hiển thị 200 điểm dữ liệu cuối để biểu đồ dễ đọc\n",
    "display_points = 200\n",
    "plt.plot(y_test_actual[-display_points:], label='Giá thực tế', color='blue')\n",
    "plt.plot(best_results['y_pred_actual'][-display_points:], label=f'Dự đoán ({best_model_name})', \n",
    "         color='red', linestyle='--')\n",
    "\n",
    "plt.title(f'So sánh giá Bitcoin thực tế và dự đoán ({best_model_name})')\n",
    "plt.xlabel('Điểm dữ liệu (Giờ)')\n",
    "plt.ylabel('Giá (USD)')\n",
    "plt.legend()\n",
    "plt.grid(True)\n",
    "plt.tight_layout()\n",
    "plt.show()"
   ]
  },
  {
   "cell_type": "markdown",
   "id": "5fbd3fec",
   "metadata": {},
   "source": [
    "## 9. Tối ưu hóa siêu tham số cho mô hình tốt nhất"
   ]
  },
  {
   "cell_type": "code",
   "execution_count": null,
   "id": "145dc4de",
   "metadata": {
    "lines_to_next_cell": 1
   },
   "outputs": [],
   "source": [
    "# Nếu Random Forest là mô hình tốt nhất, tiến hành tối ưu hóa siêu tham số\n",
    "if best_model_name == 'Random Forest':\n",
    "    print(\"\\nĐang tối ưu hóa siêu tham số cho Random Forest...\")\n",
    "    \n",
    "    param_grid = {\n",
    "        'n_estimators': [50, 100, 200],\n",
    "        'max_depth': [None, 10, 20, 30],\n",
    "        'min_samples_split': [2, 5, 10],\n",
    "        'min_samples_leaf': [1, 2, 4]\n",
    "    }\n",
    "    \n",
    "    grid_search = GridSearchCV(\n",
    "        RandomForestRegressor(random_state=42), \n",
    "        param_grid, \n",
    "        cv=5, \n",
    "        scoring='neg_mean_squared_error',\n",
    "        n_jobs=-1,\n",
    "        verbose=1\n",
    "    )\n",
    "    \n",
    "    grid_search.fit(X_train, y_train)\n",
    "    \n",
    "    print(f\"\\nSiêu tham số tốt nhất: {grid_search.best_params_}\")\n",
    "    \n",
    "    # Huấn luyện mô hình với siêu tham số tốt nhất\n",
    "    best_rf_model = grid_search.best_estimator_\n",
    "    best_model = best_rf_model\n",
    "    \n",
    "    # Đánh giá mô hình tối ưu\n",
    "    optimized_results = evaluate_model(best_model, X_train, X_test, y_train, y_test, scaler_y)\n",
    "    \n",
    "    print(\"\\nKết quả đánh giá mô hình Random Forest tối ưu:\")\n",
    "    print(f\"RMSE: ${optimized_results['rmse']:.2f}\")\n",
    "    print(f\"MAE: ${optimized_results['mae']:.2f}\")\n",
    "    print(f\"R^2: {optimized_results['r2']:.4f}\")\n",
    "    print(f\"MAPE: {optimized_results['mape']:.4f}%\")\n",
    "    \n",
    "    # Cập nhật best_results\n",
    "    best_results = optimized_results\n",
    "    \n",
    "    # Phân tích tầm quan trọng của đặc trưng\n",
    "    feature_importance = pd.DataFrame({\n",
    "        'Đặc trưng': X.columns,\n",
    "        'Tầm quan trọng': best_model.feature_importances_\n",
    "    }).sort_values('Tầm quan trọng', ascending=False)\n",
    "    \n",
    "    plt.figure(figsize=(12, 8))\n",
    "    sns.barplot(x='Tầm quan trọng', y='Đặc trưng', data=feature_importance.head(15))\n",
    "    plt.title('15 đặc trưng quan trọng nhất trong dự đoán giá Bitcoin')\n",
    "    plt.tight_layout()\n",
    "    plt.show()"
   ]
  },
  {
   "cell_type": "markdown",
   "id": "40289c22",
   "metadata": {},
   "source": [
    "## 10. Dự đoán giá Bitcoin cho 12 giờ tới"
   ]
  },
  {
   "cell_type": "code",
   "execution_count": null,
   "id": "6a2b9e7d",
   "metadata": {
    "lines_to_next_cell": 1
   },
   "outputs": [],
   "source": [
    "def predict_next_hours(model, last_data, scaler_x, scaler_y, hours=12):\n",
    "    \"\"\"Dự đoán giá Bitcoin cho một số giờ tới\"\"\"\n",
    "    forecasted_prices = []\n",
    "    \n",
    "    # Lấy dữ liệu mới nhất\n",
    "    current_features = last_data.copy()\n",
    "    \n",
    "    for hour in range(1, hours + 1):\n",
    "        # Dự đoán giá cho giờ tiếp theo\n",
    "        prediction_scaled = model.predict(current_features.reshape(1, -1))[0]\n",
    "        \n",
    "        # Chuyển đổi về giá thực tế\n",
    "        prediction = scaler_y.inverse_transform([[prediction_scaled]])[0][0]\n",
    "        forecasted_prices.append(prediction)\n",
    "        \n",
    "        # Trong thực tế, ta cần cập nhật các đặc trưng để dự đoán giờ tiếp theo\n",
    "        # Đây là cách đơn giản hóa\n",
    "        # Trong ứng dụng thực tế, ta cần cập nhật tất cả các chỉ báo kỹ thuật\n",
    "        \n",
    "    return forecasted_prices"
   ]
  },
  {
   "cell_type": "code",
   "execution_count": null,
   "id": "9fba0b32",
   "metadata": {},
   "outputs": [],
   "source": [
    "# Lấy dữ liệu mới nhất để dự đoán\n",
    "last_data = X_scaled[-1]\n",
    "\n",
    "# Dự đoán giá cho 12 giờ tới\n",
    "future_prices = predict_next_hours(best_model, last_data, scaler_X, scaler_y, hours=12)\n",
    "\n",
    "# Tạo dãy thời gian cho dự báo\n",
    "last_time = df_hourly.index[-1]\n",
    "future_times = [last_time + dt.timedelta(hours=i+1) for i in range(12)]\n",
    "\n",
    "# Hiển thị kết quả dự báo\n",
    "print(\"\\nDự đoán giá Bitcoin trong 12 giờ tới:\")\n",
    "for time, price in zip(future_times, future_prices):\n",
    "    print(f\"{time.strftime('%Y-%m-%d %H:%M')}: ${price:.2f}\")"
   ]
  },
  {
   "cell_type": "code",
   "execution_count": null,
   "id": "4df8b059",
   "metadata": {},
   "outputs": [],
   "source": [
    "# Trực quan hóa dự báo trong 12 giờ tới\n",
    "plt.figure(figsize=(15, 6))\n",
    "\n",
    "# Lấy dữ liệu lịch sử để vẽ biểu đồ\n",
    "historical_times = df_hourly.index[-48:]  # 48 giờ cuối\n",
    "historical_prices = df_hourly['Close'].iloc[-48:].values\n",
    "\n",
    "# Vẽ dữ liệu lịch sử và dự báo\n",
    "plt.plot(historical_times, historical_prices, 'b-', label='Giá lịch sử')\n",
    "plt.plot(future_times, future_prices, 'r--', marker='o', label='Giá dự báo')\n",
    "\n",
    "plt.title(f'Dự báo giá Bitcoin trong 12 giờ tới (sử dụng {best_model_name})')\n",
    "plt.xlabel('Thời gian')\n",
    "plt.ylabel('Giá (USD)')\n",
    "plt.legend()\n",
    "plt.grid(True)\n",
    "plt.xticks(rotation=45)\n",
    "plt.tight_layout()\n",
    "plt.show()"
   ]
  },
  {
   "cell_type": "markdown",
   "id": "d3f2b144",
   "metadata": {},
   "source": [
    "## 11. Kết luận"
   ]
  },
  {
   "cell_type": "code",
   "execution_count": null,
   "id": "026d72e6",
   "metadata": {},
   "outputs": [],
   "source": [
    "print(\"\\n=== Kết luận ===\")\n",
    "print(f\"Mô hình {best_model_name} đã được chọn là mô hình tốt nhất cho dự đoán giá Bitcoin theo giờ.\")\n",
    "print(f\"RMSE của mô hình: ${best_results['rmse']:.2f}\")\n",
    "print(f\"R² của mô hình: {best_results['r2']:.4f}\")\n",
    "print(f\"MAPE của mô hình: {best_results['mape']:.4f}%\")\n",
    "\n",
    "print(\"\\nĐặc điểm quan trọng của dự đoán:\")\n",
    "print(\"1. Dự đoán giá Bitcoin theo giờ thay vì theo ngày giúp nắm bắt tốt hơn biến động ngắn hạn\")\n",
    "print(\"2. Các chỉ báo kỹ thuật cung cấp thông tin quan trọng để dự đoán sự biến động của giá\")\n",
    "print(\"3. Random Forest thường hoạt động tốt nhất do khả năng nắm bắt mối quan hệ phi tuyến trong dữ liệu\")\n",
    "\n",
    "print(\"\\nNhận xét về kết quả dự đoán:\")\n",
    "if best_results['r2'] > 0.7:\n",
    "    print(\"Mô hình có khả năng dự đoán tốt dựa trên chỉ số R².\")\n",
    "elif best_results['r2'] > 0.5:\n",
    "    print(\"Mô hình có khả năng dự đoán ở mức trung bình dựa trên chỉ số R².\")\n",
    "else:\n",
    "    print(\"Mô hình có khả năng dự đoán thấp, cần cải thiện thêm.\")\n",
    "\n",
    "print(\"\\nLưu ý quan trọng: Thị trường tiền điện tử rất biến động và chịu ảnh hưởng của nhiều yếu tố không lường trước được.\")\n",
    "print(\"Dự đoán này chỉ nên được sử dụng như một tham khảo, không nên dùng làm cơ sở duy nhất cho quyết định đầu tư.\")"
   ]
  }
 ],
 "metadata": {
  "jupytext": {
   "cell_metadata_filter": "-all",
   "main_language": "python",
   "notebook_metadata_filter": "-all"
  }
 },
 "nbformat": 4,
 "nbformat_minor": 5
}
