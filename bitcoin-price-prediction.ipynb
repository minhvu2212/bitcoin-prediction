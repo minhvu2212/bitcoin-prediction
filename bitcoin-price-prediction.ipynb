{
 "cells": [
  {
   "cell_type": "markdown",
   "id": "02388c1e",
   "metadata": {},
   "source": [
    "## 1. Import các thư viện cần thiết"
   ]
  },
  {
   "cell_type": "code",
   "execution_count": null,
   "id": "6ae4765b",
   "metadata": {},
   "outputs": [],
   "source": [
    "# Import thư viện\n",
    "import numpy as np\n",
    "import pandas as pd\n",
    "import matplotlib.pyplot as plt\n",
    "import seaborn as sns\n",
    "from sklearn.preprocessing import MinMaxScaler\n",
    "from sklearn.model_selection import train_test_split, cross_val_score, GridSearchCV\n",
    "from sklearn.metrics import mean_squared_error, mean_absolute_error, r2_score\n",
    "import datetime as dt\n",
    "import warnings\n",
    "warnings.filterwarnings('ignore')\n",
    "\n",
    "# Các mô hình hồi quy từ slide\n",
    "from sklearn.linear_model import LinearRegression, Ridge  # Lecture 3\n",
    "from sklearn.ensemble import RandomForestRegressor  # Lecture 8\n",
    "from sklearn.neighbors import KNeighborsRegressor  # Lecture 7\n",
    "from sklearn.svm import SVR  # Lecture 11\n",
    "from sklearn.tree import DecisionTreeRegressor  # Lecture 8"
   ]
  },
  {
   "cell_type": "markdown",
   "id": "0d374dd7",
   "metadata": {},
   "source": [
    "## 2. Tải và khám phá dữ liệu"
   ]
  },
  {
   "cell_type": "code",
   "execution_count": null,
   "id": "2fa5360d",
   "metadata": {},
   "outputs": [],
   "source": [
    "# Tải dữ liệu\n",
    "print(\"Đang tải dữ liệu lịch sử Bitcoin...\")\n",
    "df = pd.read_csv('/kaggle/input/bitcoin-historical-data/btcusd_1-min_data.csv')\n",
    "print(f\"Kích thước dữ liệu: {df.shape}\")"
   ]
  },
  {
   "cell_type": "code",
   "execution_count": null,
   "id": "ee1a0b1d",
   "metadata": {},
   "outputs": [],
   "source": [
    "# Tiền xử lý dữ liệu\n",
    "# Chuyển đổi timestamp sang dạng datetime\n",
    "df['Timestamp'] = pd.to_datetime(df['Timestamp'], unit='s')\n",
    "df.set_index('Timestamp', inplace=True)\n",
    "print(\"Thông tin 5 dòng đầu tiên:\")\n",
    "print(df.head())"
   ]
  },
  {
   "cell_type": "code",
   "execution_count": null,
   "id": "46a28f47",
   "metadata": {},
   "outputs": [],
   "source": [
    "# Kiểm tra thông tin thống kê cơ bản\n",
    "print(\"Thống kê mô tả:\")\n",
    "print(df.describe())"
   ]
  },
  {
   "cell_type": "code",
   "execution_count": null,
   "id": "436dc30e",
   "metadata": {},
   "outputs": [],
   "source": [
    "# Kiểm tra giá trị thiếu\n",
    "print(\"Giá trị thiếu trong dữ liệu:\")\n",
    "print(df.isnull().sum())\n",
    "df.dropna(inplace=True)\n",
    "print(f\"Kích thước dữ liệu sau khi loại bỏ giá trị thiếu: {df.shape}\")"
   ]
  },
  {
   "cell_type": "markdown",
   "id": "b6997d6c",
   "metadata": {},
   "source": [
    "## 3. Tổng hợp dữ liệu theo giờ"
   ]
  },
  {
   "cell_type": "code",
   "execution_count": null,
   "id": "f1492f8e",
   "metadata": {
    "lines_to_next_cell": 1
   },
   "outputs": [],
   "source": [
    "# Lấy mẫu dữ liệu theo giờ thay vì theo ngày\n",
    "df_hourly = df.resample('H').agg({\n",
    "    'Open': 'first',\n",
    "    'High': 'max',\n",
    "    'Low': 'min',\n",
    "    'Close': 'last',\n",
    "    'Volume': 'sum'\n",
    "}).dropna()\n",
    "\n",
    "print(f\"Kích thước dữ liệu sau khi tổng hợp theo giờ: {df_hourly.shape}\")\n",
    "print(\"Dữ liệu theo giờ (5 dòng đầu):\")\n",
    "print(df_hourly.head())"
   ]
  },
  {
   "cell_type": "markdown",
   "id": "2b1c8923",
   "metadata": {},
   "source": [
    "## 4. Thêm chỉ báo kỹ thuật"
   ]
  },
  {
   "cell_type": "code",
   "execution_count": null,
   "id": "f1e6d744",
   "metadata": {
    "lines_to_next_cell": 1
   },
   "outputs": [],
   "source": [
    "def add_technical_indicators(df):\n",
    "    \"\"\"Thêm các chỉ báo kỹ thuật vào DataFrame theo giờ - KHÔNG phụ thuộc vào thư viện ta\"\"\"\n",
    "    # Đường trung bình động (Moving Averages) - điều chỉnh cửa sổ cho dữ liệu theo giờ\n",
    "    df['MA6'] = df['Close'].rolling(window=6).mean()  # MA 6 giờ\n",
    "    df['MA12'] = df['Close'].rolling(window=12).mean()  # MA 12 giờ\n",
    "    df['MA24'] = df['Close'].rolling(window=24).mean()  # MA 24 giờ (1 ngày)\n",
    "    \n",
    "    # Độ biến động (Volatility)\n",
    "    df['Volatility'] = df['Close'].pct_change().rolling(window=12).std() * 100\n",
    "    \n",
    "    # Tỷ lệ thay đổi giá (Rate of Change - ROC)\n",
    "    df['ROC6'] = ((df['Close'] - df['Close'].shift(6)) / df['Close'].shift(6)) * 100\n",
    "    \n",
    "    # Chỉ số sức mạnh tương đối (RSI) - điều chỉnh cửa sổ cho dữ liệu theo giờ\n",
    "    delta = df['Close'].diff()\n",
    "    gain = (delta.where(delta > 0, 0)).rolling(window=14).mean()\n",
    "    loss = (-delta.where(delta < 0, 0)).rolling(window=14).mean()\n",
    "    rs = gain / loss\n",
    "    df['RSI'] = 100 - (100 / (1 + rs))\n",
    "    \n",
    "    # MACD - điều chỉnh tham số cho dữ liệu theo giờ\n",
    "    ema12 = df['Close'].ewm(span=12, adjust=False).mean()\n",
    "    ema26 = df['Close'].ewm(span=26, adjust=False).mean()\n",
    "    df['MACD'] = ema12 - ema26\n",
    "    df['MACD_Signal'] = df['MACD'].ewm(span=9, adjust=False).mean()\n",
    "    \n",
    "    # Bollinger Bands\n",
    "    df['MA20'] = df['Close'].rolling(window=20).mean()  # Cần thiết cho Bollinger Bands\n",
    "    std_dev = df['Close'].rolling(window=20).std()\n",
    "    df['BB_Upper'] = df['MA20'] + (std_dev * 2)\n",
    "    df['BB_Lower'] = df['MA20'] - (std_dev * 2)\n",
    "    df['BB_Width'] = (df['BB_Upper'] - df['BB_Lower']) / df['MA20']\n",
    "    \n",
    "    # Độ chênh lệch giá\n",
    "    df['Close_Open_Diff'] = df['Close'] - df['Open']\n",
    "    df['High_Low_Diff'] = df['High'] - df['Low']\n",
    "    \n",
    "    # Chỉ số động lượng (Momentum)\n",
    "    df['Momentum'] = df['Close'] - df['Close'].shift(6)\n",
    "    \n",
    "    # Thêm dữ liệu về giờ trong ngày (có thể có tính mùa vụ)\n",
    "    df['Hour'] = df.index.hour\n",
    "    \n",
    "    # Thêm thông tin về ngày trong tuần (0=Thứ 2, 6=Chủ nhật)\n",
    "    df['DayOfWeek'] = df.index.dayofweek\n",
    "    \n",
    "    # Chuyển giờ và ngày thành các biến dummy theo hướng circular encoding \n",
    "    # để tránh jump lớn giữa giờ 23 và 0\n",
    "    df['Hour_sin'] = np.sin(2 * np.pi * df['Hour']/24)\n",
    "    df['Hour_cos'] = np.cos(2 * np.pi * df['Hour']/24)\n",
    "    df['Day_sin'] = np.sin(2 * np.pi * df['DayOfWeek']/7)\n",
    "    df['Day_cos'] = np.cos(2 * np.pi * df['DayOfWeek']/7)\n",
    "    \n",
    "    # Thêm biến mục tiêu cho việc dự đoán\n",
    "    for i in range(1, 13):  # Tạo mục tiêu cho 12 giờ tới\n",
    "        df[f'Next_{i}h_Price'] = df['Close'].shift(-i)\n",
    "    \n",
    "    return df"
   ]
  },
  {
   "cell_type": "code",
   "execution_count": null,
   "id": "ea2eb5d1",
   "metadata": {},
   "outputs": [],
   "source": [
    "# Thêm chỉ báo kỹ thuật vào dữ liệu theo giờ\n",
    "df_hourly = add_technical_indicators(df_hourly)\n",
    "df_hourly.dropna(inplace=True)\n",
    "print(f\"Kích thước dữ liệu sau khi thêm chỉ báo kỹ thuật: {df_hourly.shape}\")"
   ]
  },
  {
   "cell_type": "markdown",
   "id": "2e132fc1",
   "metadata": {},
   "source": [
    "## 5. Trực quan hóa dữ liệu"
   ]
  },
  {
   "cell_type": "code",
   "execution_count": null,
   "id": "127f0ea3",
   "metadata": {},
   "outputs": [],
   "source": [
    "# Vẽ biểu đồ giá Bitcoin theo giờ (chỉ lấy 500 giờ gần nhất để dễ quan sát)\n",
    "plt.figure(figsize=(15, 6))\n",
    "df_hourly['Close'].tail(500).plot()\n",
    "plt.title('Biến động giá Bitcoin theo giờ (500 giờ gần nhất)')\n",
    "plt.xlabel('Thời gian')\n",
    "plt.ylabel('Giá (USD)')\n",
    "plt.grid(True)\n",
    "plt.show()"
   ]
  },
  {
   "cell_type": "code",
   "execution_count": null,
   "id": "50d0a66d",
   "metadata": {},
   "outputs": [],
   "source": [
    "# Tạo ma trận tương quan\n",
    "plt.figure(figsize=(16, 14))\n",
    "# Chỉ chọn một số cột quan trọng để tránh ma trận quá lớn\n",
    "correlation_columns = ['Open', 'High', 'Low', 'Close', 'Volume', 'MA6', 'MA12', 'MA24', \n",
    "                       'Volatility', 'ROC6', 'RSI', 'MACD', 'BB_Width', 'Next_1h_Price']\n",
    "correlation = df_hourly[correlation_columns].corr()\n",
    "mask = np.triu(correlation)\n",
    "sns.heatmap(correlation, mask=mask, annot=True, cmap='coolwarm', linewidths=0.5, fmt=\".2f\")\n",
    "plt.title('Ma trận tương quan giữa các đặc trưng')\n",
    "plt.xticks(rotation=45)\n",
    "plt.tight_layout()\n",
    "plt.show()"
   ]
  },
  {
   "cell_type": "markdown",
   "id": "9c4f2338",
   "metadata": {},
   "source": [
    "## 6. Chuẩn bị dữ liệu cho huấn luyện mô hình"
   ]
  },
  {
   "cell_type": "code",
   "execution_count": null,
   "id": "2a5d7f7d",
   "metadata": {},
   "outputs": [],
   "source": [
    "# Chuẩn bị dữ liệu cho mô hình dự đoán giá cho giờ tiếp theo\n",
    "target_column = 'Next_1h_Price'  # Dự đoán giá cho giờ tiếp theo\n",
    "\n",
    "# Tách đặc trưng và biến mục tiêu\n",
    "feature_columns = [col for col in df_hourly.columns if col not in ['Open', 'High', 'Low', 'Close', 'Hour', 'DayOfWeek'] + \n",
    "                   [f'Next_{i}h_Price' for i in range(1, 13)]]\n",
    "\n",
    "X = df_hourly[feature_columns]\n",
    "y = df_hourly[target_column]"
   ]
  },
  {
   "cell_type": "code",
   "execution_count": null,
   "id": "fe6af873",
   "metadata": {
    "lines_to_next_cell": 1
   },
   "outputs": [],
   "source": [
    "# Chuẩn hóa dữ liệu\n",
    "scaler_X = MinMaxScaler()\n",
    "scaler_y = MinMaxScaler()\n",
    "\n",
    "X_scaled = scaler_X.fit_transform(X)\n",
    "y_scaled = scaler_y.fit_transform(y.values.reshape(-1, 1)).flatten()\n",
    "\n",
    "# Phân chia dữ liệu thành tập huấn luyện và tập kiểm tra\n",
    "# Vì là dữ liệu chuỗi thời gian, chúng ta không xáo trộn dữ liệu\n",
    "test_size = 0.2  # 20% dữ liệu cho kiểm tra\n",
    "train_size = int(len(X_scaled) * (1 - test_size))\n",
    "\n",
    "X_train, X_test = X_scaled[:train_size], X_scaled[train_size:]\n",
    "y_train, y_test = y_scaled[:train_size], y_scaled[train_size:]\n",
    "\n",
    "print(f\"Kích thước tập huấn luyện: {X_train.shape}\")\n",
    "print(f\"Kích thước tập kiểm tra: {X_test.shape}\")"
   ]
  },
  {
   "cell_type": "markdown",
   "id": "9b21d610",
   "metadata": {},
   "source": [
    "## 7. Huấn luyện và đánh giá các mô hình hồi quy"
   ]
  },
  {
   "cell_type": "code",
   "execution_count": null,
   "id": "d5911eef",
   "metadata": {
    "lines_to_next_cell": 1
   },
   "outputs": [],
   "source": [
    "def evaluate_model(model, X_train, X_test, y_train, y_test, scaler_y):\n",
    "    \"\"\"Đánh giá hiệu suất của một mô hình hồi quy\"\"\"\n",
    "    # Huấn luyện mô hình\n",
    "    model.fit(X_train, y_train)\n",
    "    \n",
    "    # Dự đoán trên tập kiểm tra\n",
    "    y_pred = model.predict(X_test)\n",
    "    \n",
    "    # Chuyển đổi về giá thực tế\n",
    "    y_test_actual = scaler_y.inverse_transform(y_test.reshape(-1, 1)).flatten()\n",
    "    y_pred_actual = scaler_y.inverse_transform(y_pred.reshape(-1, 1)).flatten()\n",
    "    \n",
    "    # Tính toán các chỉ số đánh giá\n",
    "    rmse = np.sqrt(mean_squared_error(y_test_actual, y_pred_actual))\n",
    "    mae = mean_absolute_error(y_test_actual, y_pred_actual)\n",
    "    r2 = r2_score(y_test_actual, y_pred_actual)\n",
    "    \n",
    "    # Tính độ lệch trung bình phần trăm tuyệt đối (MAPE)\n",
    "    mape = np.mean(np.abs((y_test_actual - y_pred_actual) / y_test_actual)) * 100\n",
    "    \n",
    "    return {\n",
    "        'model': model,\n",
    "        'y_pred': y_pred,\n",
    "        'y_pred_actual': y_pred_actual,\n",
    "        'rmse': rmse,\n",
    "        'mae': mae,\n",
    "        'r2': r2,\n",
    "        'mape': mape\n",
    "    }"
   ]
  },
  {
   "cell_type": "code",
   "execution_count": null,
   "id": "3997ba7f",
   "metadata": {},
   "outputs": [],
   "source": [
    "# 1. Linear Regression (Lecture 3)\n",
    "print(\"Huấn luyện mô hình Linear Regression...\")\n",
    "lr_model = LinearRegression()\n",
    "lr_results = evaluate_model(lr_model, X_train, X_test, y_train, y_test, scaler_y)\n",
    "\n",
    "print(\"\\nKết quả đánh giá mô hình Linear Regression:\")\n",
    "print(f\"RMSE: ${lr_results['rmse']:.2f}\")\n",
    "print(f\"MAE: ${lr_results['mae']:.2f}\")\n",
    "print(f\"R^2: {lr_results['r2']:.4f}\")\n",
    "print(f\"MAPE: {lr_results['mape']:.4f}%\")"
   ]
  },
  {
   "cell_type": "code",
   "execution_count": null,
   "id": "dcc761cd",
   "metadata": {},
   "outputs": [],
   "source": [
    "# 2. Ridge Regression (Lecture 3)\n",
    "print(\"\\nHuấn luyện mô hình Ridge Regression...\")\n",
    "ridge_model = Ridge(alpha=1.0)  # alpha là tham số điều chỉnh độ phức tạp của mô hình\n",
    "ridge_results = evaluate_model(ridge_model, X_train, X_test, y_train, y_test, scaler_y)\n",
    "\n",
    "print(\"\\nKết quả đánh giá mô hình Ridge Regression:\")\n",
    "print(f\"RMSE: ${ridge_results['rmse']:.2f}\")\n",
    "print(f\"MAE: ${ridge_results['mae']:.2f}\")\n",
    "print(f\"R^2: {ridge_results['r2']:.4f}\")\n",
    "print(f\"MAPE: {ridge_results['mape']:.4f}%\")"
   ]
  },
  {
   "cell_type": "code",
   "execution_count": null,
   "id": "c6110e5d",
   "metadata": {},
   "outputs": [],
   "source": [
    "# 3. Decision Tree Regression (Lecture 8)\n",
    "print(\"\\nHuấn luyện mô hình Decision Tree...\")\n",
    "dt_model = DecisionTreeRegressor(random_state=42)\n",
    "dt_results = evaluate_model(dt_model, X_train, X_test, y_train, y_test, scaler_y)\n",
    "\n",
    "print(\"\\nKết quả đánh giá mô hình Decision Tree:\")\n",
    "print(f\"RMSE: ${dt_results['rmse']:.2f}\")\n",
    "print(f\"MAE: ${dt_results['mae']:.2f}\")\n",
    "print(f\"R^2: {dt_results['r2']:.4f}\")\n",
    "print(f\"MAPE: {dt_results['mape']:.4f}%\")"
   ]
  },
  {
   "cell_type": "code",
   "execution_count": null,
   "id": "16c49ed4",
   "metadata": {},
   "outputs": [],
   "source": [
    "# 4. Random Forest Regression (Lecture 8)\n",
    "print(\"\\nHuấn luyện mô hình Random Forest...\")\n",
    "rf_model = RandomForestRegressor(n_estimators=100, random_state=42)\n",
    "rf_results = evaluate_model(rf_model, X_train, X_test, y_train, y_test, scaler_y)\n",
    "\n",
    "print(\"\\nKết quả đánh giá mô hình Random Forest:\")\n",
    "print(f\"RMSE: ${rf_results['rmse']:.2f}\")\n",
    "print(f\"MAE: ${rf_results['mae']:.2f}\")\n",
    "print(f\"R^2: {rf_results['r2']:.4f}\")\n",
    "print(f\"MAPE: {rf_results['mape']:.4f}%\")"
   ]
  },
  {
   "cell_type": "code",
   "execution_count": null,
   "id": "29cc854c",
   "metadata": {},
   "outputs": [],
   "source": [
    "# 5. K-Nearest Neighbors Regression (Lecture 7)\n",
    "print(\"\\nHuấn luyện mô hình KNN Regression...\")\n",
    "knn_model = KNeighborsRegressor(n_neighbors=5)\n",
    "knn_results = evaluate_model(knn_model, X_train, X_test, y_train, y_test, scaler_y)\n",
    "\n",
    "print(\"\\nKết quả đánh giá mô hình KNN Regression:\")\n",
    "print(f\"RMSE: ${knn_results['rmse']:.2f}\")\n",
    "print(f\"MAE: ${knn_results['mae']:.2f}\")\n",
    "print(f\"R^2: {knn_results['r2']:.4f}\")\n",
    "print(f\"MAPE: {knn_results['mape']:.4f}%\")"
   ]
  },
  {
   "cell_type": "code",
   "execution_count": null,
   "id": "418958df",
   "metadata": {},
   "outputs": [],
   "source": [
    "# 6. Support Vector Regression (Lecture 11)\n",
    "print(\"\\nHuấn luyện mô hình SVR...\")\n",
    "# SVR có thể chậm với dữ liệu lớn, nên chúng ta sẽ sử dụng kernel rbf với C=1.0\n",
    "svr_model = SVR(kernel='rbf', C=1.0, gamma='scale')\n",
    "svr_results = evaluate_model(svr_model, X_train, X_test, y_train, y_test, scaler_y)\n",
    "\n",
    "print(\"\\nKết quả đánh giá mô hình SVR:\")\n",
    "print(f\"RMSE: ${svr_results['rmse']:.2f}\")\n",
    "print(f\"MAE: ${svr_results['mae']:.2f}\")\n",
    "print(f\"R^2: {svr_results['r2']:.4f}\")\n",
    "print(f\"MAPE: {svr_results['mape']:.4f}%\")"
   ]
  },
  {
   "cell_type": "markdown",
   "id": "e5b84eb9",
   "metadata": {},
   "source": [
    "## 8. So sánh và lựa chọn mô hình tốt nhất"
   ]
  },
  {
   "cell_type": "code",
   "execution_count": null,
   "id": "76becea8",
   "metadata": {},
   "outputs": [],
   "source": [
    "# So sánh hiệu suất của các mô hình\n",
    "models = ['Linear Regression', 'Ridge Regression', 'Decision Tree', 'Random Forest', 'KNN', 'SVR']\n",
    "results = [lr_results, ridge_results, dt_results, rf_results, knn_results, svr_results]\n",
    "rmse_values = [res['rmse'] for res in results]\n",
    "r2_values = [res['r2'] for res in results]\n",
    "mape_values = [res['mape'] for res in results]\n",
    "\n",
    "# Tạo biểu đồ so sánh RMSE\n",
    "plt.figure(figsize=(14, 6))\n",
    "plt.bar(models, rmse_values, color=['blue', 'green', 'red', 'orange', 'purple', 'brown'])\n",
    "plt.title('So sánh RMSE giữa các mô hình')\n",
    "plt.xlabel('Mô hình')\n",
    "plt.ylabel('RMSE (USD)')\n",
    "plt.xticks(rotation=45)\n",
    "for i, v in enumerate(rmse_values):\n",
    "    plt.text(i, v + 5, f'${v:.2f}', ha='center')\n",
    "plt.tight_layout()\n",
    "plt.show()\n",
    "\n",
    "# Tạo biểu đồ so sánh R^2\n",
    "plt.figure(figsize=(14, 6))\n",
    "plt.bar(models, r2_values, color=['blue', 'green', 'red', 'orange', 'purple', 'brown'])\n",
    "plt.title('So sánh R² giữa các mô hình')\n",
    "plt.xlabel('Mô hình')\n",
    "plt.ylabel('R²')\n",
    "plt.xticks(rotation=45)\n",
    "for i, v in enumerate(r2_values):\n",
    "    plt.text(i, v + 0.01, f'{v:.4f}', ha='center')\n",
    "plt.tight_layout()\n",
    "plt.show()"
   ]
  },
  {
   "cell_type": "code",
   "execution_count": null,
   "id": "29b2e3b5",
   "metadata": {},
   "outputs": [],
   "source": [
    "# Xác định mô hình tốt nhất dựa trên RMSE (giá trị càng thấp càng tốt)\n",
    "best_model_index = np.argmin(rmse_values)\n",
    "best_model_name = models[best_model_index]\n",
    "best_model = results[best_model_index]['model']\n",
    "best_results = results[best_model_index]\n",
    "\n",
    "print(f\"\\nMô hình có hiệu suất tốt nhất dựa trên RMSE: {best_model_name}\")\n",
    "print(f\"RMSE: ${best_results['rmse']:.2f}\")\n",
    "print(f\"R^2: {best_results['r2']:.4f}\")\n",
    "print(f\"MAPE: {best_results['mape']:.4f}%\")"
   ]
  },
  {
   "cell_type": "code",
   "execution_count": null,
   "id": "27013e35",
   "metadata": {},
   "outputs": [],
   "source": [
    "# Trực quan hóa kết quả dự đoán của mô hình tốt nhất\n",
    "plt.figure(figsize=(15, 6))\n",
    "\n",
    "# Lấy giá thực tế từ tập kiểm tra\n",
    "y_test_actual = scaler_y.inverse_transform(y_test.reshape(-1, 1)).flatten()\n",
    "\n",
    "# Chỉ hiển thị 200 điểm dữ liệu cuối để biểu đồ dễ đọc\n",
    "display_points = 200\n",
    "plt.plot(y_test_actual[-display_points:], label='Giá thực tế', color='blue')\n",
    "plt.plot(best_results['y_pred_actual'][-display_points:], label=f'Dự đoán ({best_model_name})', \n",
    "         color='red', linestyle='--')\n",
    "\n",
    "plt.title(f'So sánh giá Bitcoin thực tế và dự đoán ({best_model_name})')\n",
    "plt.xlabel('Điểm dữ liệu (Giờ)')\n",
    "plt.ylabel('Giá (USD)')\n",
    "plt.legend()\n",
    "plt.grid(True)\n",
    "plt.tight_layout()\n",
    "plt.show()"
   ]
  },
  {
   "cell_type": "markdown",
   "id": "017112c9",
   "metadata": {},
   "source": [
    "## 9. Tối ưu hóa siêu tham số cho mô hình tốt nhất"
   ]
  },
  {
   "cell_type": "code",
   "execution_count": null,
   "id": "14f9df89",
   "metadata": {
    "lines_to_next_cell": 1
   },
   "outputs": [],
   "source": [
    "# Tối ưu hóa siêu tham số dựa trên loại mô hình tốt nhất\n",
    "if best_model_name == \"Random Forest\":\n",
    "    print(\"\\nĐang tối ưu hóa siêu tham số cho Random Forest...\")\n",
    "    \n",
    "    param_grid = {\n",
    "        'n_estimators': [50, 100, 200],\n",
    "        'max_depth': [None, 10, 20, 30],\n",
    "        'min_samples_split': [2, 5, 10],\n",
    "        'min_samples_leaf': [1, 2, 4]\n",
    "    }\n",
    "    \n",
    "    grid_search = GridSearchCV(\n",
    "        RandomForestRegressor(random_state=42), \n",
    "        param_grid, \n",
    "        cv=5, \n",
    "        scoring='neg_mean_squared_error',\n",
    "        n_jobs=-1,\n",
    "        verbose=1\n",
    "    )\n",
    "    \n",
    "elif best_model_name == \"KNN\":\n",
    "    print(\"\\nĐang tối ưu hóa siêu tham số cho KNN...\")\n",
    "    \n",
    "    param_grid = {\n",
    "        'n_neighbors': [3, 5, 7, 9, 11],\n",
    "        'weights': ['uniform', 'distance'],\n",
    "        'p': [1, 2]  # p=1 cho khoảng cách Manhattan, p=2 cho khoảng cách Euclidean\n",
    "    }\n",
    "    \n",
    "    grid_search = GridSearchCV(\n",
    "        KNeighborsRegressor(), \n",
    "        param_grid, \n",
    "        cv=5, \n",
    "        scoring='neg_mean_squared_error',\n",
    "        n_jobs=-1,\n",
    "        verbose=1\n",
    "    )\n",
    "    \n",
    "elif best_model_name == \"Decision Tree\":\n",
    "    print(\"\\nĐang tối ưu hóa siêu tham số cho Decision Tree...\")\n",
    "    \n",
    "    param_grid = {\n",
    "        'max_depth': [None, 5, 10, 15, 20],\n",
    "        'min_samples_split': [2, 5, 10],\n",
    "        'min_samples_leaf': [1, 2, 4, 8],\n",
    "        'criterion': ['squared_error', 'friedman_mse', 'absolute_error']\n",
    "    }\n",
    "    \n",
    "    grid_search = GridSearchCV(\n",
    "        DecisionTreeRegressor(random_state=42), \n",
    "        param_grid, \n",
    "        cv=5, \n",
    "        scoring='neg_mean_squared_error',\n",
    "        n_jobs=-1,\n",
    "        verbose=1\n",
    "    )\n",
    "    \n",
    "elif best_model_name == \"SVR\":\n",
    "    print(\"\\nĐang tối ưu hóa siêu tham số cho SVR...\")\n",
    "    \n",
    "    param_grid = {\n",
    "        'C': [0.1, 1, 10],\n",
    "        'gamma': ['scale', 'auto', 0.1, 0.01],\n",
    "        'kernel': ['rbf', 'linear']\n",
    "    }\n",
    "    \n",
    "    grid_search = GridSearchCV(\n",
    "        SVR(), \n",
    "        param_grid, \n",
    "        cv=5, \n",
    "        scoring='neg_mean_squared_error',\n",
    "        n_jobs=-1,\n",
    "        verbose=1\n",
    "    )\n",
    "    \n",
    "elif best_model_name == \"Ridge Regression\":\n",
    "    print(\"\\nĐang tối ưu hóa siêu tham số cho Ridge Regression...\")\n",
    "    \n",
    "    param_grid = {\n",
    "        'alpha': [0.01, 0.1, 1.0, 10.0, 100.0]\n",
    "    }\n",
    "    \n",
    "    grid_search = GridSearchCV(\n",
    "        Ridge(), \n",
    "        param_grid, \n",
    "        cv=5, \n",
    "        scoring='neg_mean_squared_error',\n",
    "        n_jobs=-1,\n",
    "        verbose=1\n",
    "    )\n",
    "\n",
    "if best_model_name in [\"Random Forest\", \"KNN\", \"Decision Tree\", \"SVR\", \"Ridge Regression\"]:\n",
    "    # Huấn luyện GridSearchCV\n",
    "    grid_search.fit(X_train, y_train)\n",
    "    \n",
    "    print(f\"\\nSiêu tham số tốt nhất: {grid_search.best_params_}\")\n",
    "    \n",
    "    # Huấn luyện mô hình với siêu tham số tốt nhất\n",
    "    best_model = grid_search.best_estimator_\n",
    "    \n",
    "    # Đánh giá mô hình tối ưu\n",
    "    optimized_results = evaluate_model(best_model, X_train, X_test, y_train, y_test, scaler_y)\n",
    "    \n",
    "    print(\"\\nKết quả đánh giá mô hình tối ưu:\")\n",
    "    print(f\"RMSE: ${optimized_results['rmse']:.2f}\")\n",
    "    print(f\"MAE: ${optimized_results['mae']:.2f}\")\n",
    "    print(f\"R^2: {optimized_results['r2']:.4f}\")\n",
    "    print(f\"MAPE: {optimized_results['mape']:.4f}%\")\n",
    "    \n",
    "    # Cập nhật best_results\n",
    "    best_results = optimized_results\n",
    "    \n",
    "    # Phân tích tầm quan trọng của đặc trưng nếu là mô hình Random Forest hoặc Decision Tree\n",
    "    if best_model_name in [\"Random Forest\", \"Decision Tree\"]:\n",
    "        feature_importance = pd.DataFrame({\n",
    "            'Đặc trưng': X.columns,\n",
    "            'Tầm quan trọng': best_model.feature_importances_\n",
    "        }).sort_values('Tầm quan trọng', ascending=False)\n",
    "        \n",
    "        plt.figure(figsize=(12, 8))\n",
    "        sns.barplot(x='Tầm quan trọng', y='Đặc trưng', data=feature_importance.head(15))\n",
    "        plt.title('15 đặc trưng quan trọng nhất trong dự đoán giá Bitcoin')\n",
    "        plt.tight_layout()\n",
    "        plt.show()"
   ]
  },
  {
   "cell_type": "markdown",
   "id": "0b5463ba",
   "metadata": {},
   "source": [
    "## 10. Dự đoán giá Bitcoin cho 12 giờ tới"
   ]
  },
  {
   "cell_type": "code",
   "execution_count": null,
   "id": "bb4af0ab",
   "metadata": {
    "lines_to_next_cell": 1
   },
   "outputs": [],
   "source": [
    "def predict_next_hours(model, last_data, scaler_x, scaler_y, hours=12):\n",
    "    \"\"\"Dự đoán giá Bitcoin cho một số giờ tới\"\"\"\n",
    "    forecasted_prices = []\n",
    "    \n",
    "    # Lấy dữ liệu mới nhất\n",
    "    current_features = last_data.copy()\n",
    "    \n",
    "    for hour in range(1, hours + 1):\n",
    "        # Dự đoán giá cho giờ tiếp theo\n",
    "        prediction_scaled = model.predict(current_features.reshape(1, -1))[0]\n",
    "        \n",
    "        # Chuyển đổi về giá thực tế\n",
    "        prediction = scaler_y.inverse_transform([[prediction_scaled]])[0][0]\n",
    "        forecasted_prices.append(prediction)\n",
    "        \n",
    "        # Trong thực tế, ta cần cập nhật các đặc trưng để dự đoán giờ tiếp theo\n",
    "        # Đây là cách đơn giản hóa\n",
    "        # Trong ứng dụng thực tế, ta cần cập nhật tất cả các chỉ báo kỹ thuật\n",
    "        \n",
    "    return forecasted_prices"
   ]
  },
  {
   "cell_type": "code",
   "execution_count": null,
   "id": "2893e336",
   "metadata": {},
   "outputs": [],
   "source": [
    "# Lấy dữ liệu mới nhất để dự đoán\n",
    "last_data = X_scaled[-1]\n",
    "\n",
    "# Dự đoán giá cho 12 giờ tới\n",
    "future_prices = predict_next_hours(best_model, last_data, scaler_X, scaler_y, hours=12)\n",
    "\n",
    "# Tạo dãy thời gian cho dự báo\n",
    "last_time = df_hourly.index[-1]\n",
    "future_times = [last_time + dt.timedelta(hours=i+1) for i in range(12)]\n",
    "\n",
    "# Hiển thị kết quả dự báo\n",
    "print(\"\\nDự đoán giá Bitcoin trong 12 giờ tới:\")\n",
    "for time, price in zip(future_times, future_prices):\n",
    "    print(f\"{time.strftime('%Y-%m-%d %H:%M')}: ${price:.2f}\")"
   ]
  },
  {
   "cell_type": "code",
   "execution_count": null,
   "id": "449a71d2",
   "metadata": {},
   "outputs": [],
   "source": [
    "# Trực quan hóa dự báo trong 12 giờ tới\n",
    "plt.figure(figsize=(15, 6))\n",
    "\n",
    "# Lấy dữ liệu lịch sử để vẽ biểu đồ\n",
    "historical_times = df_hourly.index[-48:]  # 48 giờ cuối\n",
    "historical_prices = df_hourly['Close'].iloc[-48:].values\n",
    "\n",
    "# Vẽ dữ liệu lịch sử và dự báo\n",
    "plt.plot(historical_times, historical_prices, 'b-', label='Giá lịch sử')\n",
    "plt.plot(future_times, future_prices, 'r--', marker='o', label='Giá dự báo')\n",
    "\n",
    "plt.title(f'Dự báo giá Bitcoin trong 12 giờ tới (sử dụng {best_model_name})')\n",
    "plt.xlabel('Thời gian')\n",
    "plt.ylabel('Giá (USD)')\n",
    "plt.legend()\n",
    "plt.grid(True)\n",
    "plt.xticks(rotation=45)\n",
    "plt.tight_layout()\n",
    "plt.show()"
   ]
  },
  {
   "cell_type": "markdown",
   "id": "6a9eec7f",
   "metadata": {},
   "source": [
    "## 11. Kết luận"
   ]
  },
  {
   "cell_type": "code",
   "execution_count": null,
   "id": "6fbc137c",
   "metadata": {},
   "outputs": [],
   "source": [
    "print(\"\\n=== Kết luận ===\")\n",
    "print(f\"Mô hình {best_model_name} đã được chọn là mô hình tốt nhất cho dự đoán giá Bitcoin theo giờ.\")\n",
    "print(f\"RMSE của mô hình: ${best_results['rmse']:.2f}\")\n",
    "print(f\"R² của mô hình: {best_results['r2']:.4f}\")\n",
    "print(f\"MAPE của mô hình: {best_results['mape']:.4f}%\")\n",
    "\n",
    "print(\"\\nSo sánh các mô hình từ slide môn học:\")\n",
    "print(\"1. Linear Regression (Lecture 3): Mô hình đơn giản, dễ hiểu, nhưng khả năng nắm bắt mối quan hệ phi tuyến hạn chế\")\n",
    "print(\"2. Ridge Regression (Lecture 3): Cải thiện Linear Regression bằng cách ngăn overfitting\")\n",
    "print(\"3. Decision Tree (Lecture 8): Mô hình trực quan, dễ hiểu, nhưng dễ overfitting\")\n",
    "print(\"4. Random Forest (Lecture 8): Kết hợp nhiều cây quyết định, giảm overfitting, thường cho kết quả tốt\")\n",
    "print(\"5. KNN (Lecture 7): Đơn giản, hiệu quả cho dữ liệu có cấu trúc không gian\")\n",
    "print(\"6. SVR (Lecture 11): Mạnh mẽ với dữ liệu phức tạp, nhưng chậm với dữ liệu lớn\")\n",
    "\n",
    "print(\"\\nĐặc điểm quan trọng của dự đoán:\")\n",
    "print(\"1. Dự đoán giá Bitcoin theo giờ thay vì theo ngày giúp nắm bắt tốt hơn biến động ngắn hạn\")\n",
    "print(\"2. Các chỉ báo kỹ thuật cung cấp thông tin quan trọng để dự đoán sự biến động của giá\")\n",
    "\n",
    "if best_model_name in [\"Random Forest\", \"Decision Tree\"]:\n",
    "    print(f\"3. Đặc trưng quan trọng nhất theo {best_model_name} là: {feature_importance['Đặc trưng'].iloc[0]}\")\n",
    "\n",
    "print(\"\\nNhận xét về kết quả dự đoán:\")\n",
    "if best_results['r2'] > 0.7:\n",
    "    print(\"Mô hình có khả năng dự đoán tốt dựa trên chỉ số R².\")\n",
    "elif best_results['r2'] > 0.5:\n",
    "    print(\"Mô hình có khả năng dự đoán ở mức trung bình dựa trên chỉ số R².\")\n",
    "else:\n",
    "    print(\"Mô hình có khả năng dự đoán thấp, cần cải thiện thêm.\")\n",
    "\n",
    "print(\"\\nLưu ý quan trọng: Thị trường tiền điện tử rất biến động và chịu ảnh hưởng của nhiều yếu tố không lường trước được.\")\n",
    "print(\"Dự đoán này chỉ nên được sử dụng như một tham khảo, không nên dùng làm cơ sở duy nhất cho quyết định đầu tư.\") [markdown]\n",
    "# # Dự đoán giá Bitcoin theo giờ\n",
    "# Nhập môn Học máy và Khai phá dữ liệu (IT3190)"
   ]
  }
 ],
 "metadata": {
  "jupytext": {
   "cell_metadata_filter": "-all",
   "main_language": "python",
   "notebook_metadata_filter": "-all"
  },
  "language_info": {
   "name": "python"
  }
 },
 "nbformat": 4,
 "nbformat_minor": 5
}
